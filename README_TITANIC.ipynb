{
 "cells": [
  {
   "cell_type": "markdown",
   "metadata": {},
   "source": [
    " <h1><center>Titanic dataset cleaning and preprocessing</center></h1>"
   ]
  },
  {
   "cell_type": "markdown",
   "metadata": {},
   "source": [
    "\n",
    "![Taitanic](https://resize.indiatvnews.com/en/resize/newbucket/715_-/2017/04/76abd9aa85d89cd53c5297129ea57cee-1492247929.jpg)\n"
   ]
  },
  {
   "cell_type": "markdown",
   "metadata": {},
   "source": [
    "# Description:\n",
    "-Titanic dataset cleaning and preprocessing"
   ]
  },
  {
   "cell_type": "markdown",
   "metadata": {},
   "source": [
    "# Steps Details:\n"
   ]
  },
  {
   "cell_type": "markdown",
   "metadata": {},
   "source": [
    "1-importing our dataset and taking a look to it."
   ]
  },
  {
   "cell_type": "markdown",
   "metadata": {},
   "source": [
    "2-seperating the dependant and independent variables"
   ]
  },
  {
   "cell_type": "markdown",
   "metadata": {},
   "source": [
    "3-Handling the missing data\n",
    "    - we have two options: \n",
    "        1. remove the row\n",
    "        2. replace it by the mean"
   ]
  },
  {
   "cell_type": "markdown",
   "metadata": {},
   "source": [
    "3-Handling Categorical Data:\n",
    "    -models prefer to deal with numbers rather than words if possible, that's what we are going to do now "
   ]
  },
  {
   "cell_type": "markdown",
   "metadata": {},
   "source": [
    "4-spliting our data to train and test data "
   ]
  },
  {
   "cell_type": "markdown",
   "metadata": {},
   "source": [
    "5-scaling/standardizing our features value:\n",
    "\n",
    "     -trying with standard Scaler.\n",
    "     -trying with Min-Max Scaler.\n",
    "     -trying without any Scaler.\n",
    "     \n"
   ]
  },
  {
   "cell_type": "code",
   "execution_count": null,
   "metadata": {},
   "outputs": [],
   "source": []
  }
 ],
 "metadata": {
  "kernelspec": {
   "display_name": "Python 3",
   "language": "python",
   "name": "python3"
  },
  "language_info": {
   "codemirror_mode": {
    "name": "ipython",
    "version": 3
   },
   "file_extension": ".py",
   "mimetype": "text/x-python",
   "name": "python",
   "nbconvert_exporter": "python",
   "pygments_lexer": "ipython3",
   "version": "3.7.4"
  }
 },
 "nbformat": 4,
 "nbformat_minor": 2
}
